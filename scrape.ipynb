{
 "cells": [
  {
   "cell_type": "code",
   "execution_count": 1,
   "metadata": {},
   "outputs": [],
   "source": [
    "import scrape as sp\n",
    "urls_pages = {\"https://www.glassdoor.com/Interview/Jane-Street-Trader-Interview-Questions-EI_IE255549.0,11_KO12,18.htm\": 4}"
   ]
  },
  {
   "cell_type": "code",
   "execution_count": 2,
   "metadata": {},
   "outputs": [
    {
     "name": "stdout",
     "output_type": "stream",
     "text": [
      "{'What is 5^5', 'Can you generate a number from 1-10 uniformly at random using two dice?', 'Dice rolling games as you can find on this website.', 'Conditional Probability, Games, Interval Confidence', 'Per esempio la prossima data composta da tutte cifre diverse', 'Starting from todays date DD/MM/YYYY what is the next one that has distinct digits?', 'Probability', 'probability related questions wre asked', 'The interview questions were challenging but they guided me throughout', 'making bets on properties of 4 face down playing cards', 'I was asked to develop a strategy for a Colonel Blotto game with 10 battlefield of different values - from 1 to 10 with 100 soldiers.', 'Interesting probability questions. The questions were very interesting and did not require too much knowledge rather checked attitude and aptitude. Overall a nice interview experience . The person taking the interview was very friendly and respectful and only 5 years older than me .', 'Probability-related questions for the first few rounds.', 'Basic Options Theory questions with pricing and greeks', 'Mainly questions on probability and expected value.', 'Not supposed to disclose the question', 'Market on sum of four cards as they were being flipped.', 'coin tosses, A wins if HTT, B wins if TTH, is this fair?', 'What is the probability of getting odd number of coins out of 100 coins.', 'combinatorics and expected value question', 'Various card and dice games were posed', 'Expected value questions with two die', '2 people play a game where 2 dice are rolled and each can see 1. They then alternate bidding on the value of the dice. Who wins?', 'What is the price if you can flip any two coins of the same face', 'Whether it would be better to bet on one type of dice or another.', 'dice problems like the probability of one', 'What is expected value of pi?', 'Solving total number of people', 'Probability question about casino game', 'I do not remember exactly. How many pages to you have to flip to find a word in a 1billion page dictionary.', 'mental multiplication in a few seconds', 'Probability,expectations', 'What is the sum of the odd positive integers less than 60? What is the probability that n coins have even number of heads, and what if one coin was biased?', 'What is the predicted value for a game where you roll a fair dice and get the number face up in dollars', 'Probability Problems:\\n1. Card games\\n2. Counting number of years (brain teaser)', 'Random walk with coin flips and a boundary - bet on the outcome of the game', 'Salmon question and dice question', 'what is the minimum number of numbers you need to factor a specific number (given by them)', 'probability questions like conditional probability', 'Probability question with bear catching fish, asked for the success rate.', 'conditional probability, likelihood calculation, is the game they designed fair?', 'Gambling on a coin flip being heads, giving you increasing odds of 1.5:1 gradually up to 7:1 and explain your reasoning of betting/not betting on it.'}\n"
     ]
    }
   ],
   "source": [
    "scrape = sp.Scrape(urls_pages)\n",
    "questions = scrape.scrape()\n",
    "print(questions)"
   ]
  },
  {
   "cell_type": "code",
   "execution_count": 3,
   "metadata": {},
   "outputs": [],
   "source": [
    "scrape.export_to_txt()"
   ]
  }
 ],
 "metadata": {
  "kernelspec": {
   "display_name": "ml",
   "language": "python",
   "name": "python3"
  },
  "language_info": {
   "codemirror_mode": {
    "name": "ipython",
    "version": 3
   },
   "file_extension": ".py",
   "mimetype": "text/x-python",
   "name": "python",
   "nbconvert_exporter": "python",
   "pygments_lexer": "ipython3",
   "version": "3.10.9"
  },
  "orig_nbformat": 4
 },
 "nbformat": 4,
 "nbformat_minor": 2
}
